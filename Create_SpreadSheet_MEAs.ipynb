{
 "cells": [
  {
   "cell_type": "code",
   "execution_count": 1,
   "metadata": {},
   "outputs": [],
   "source": [
    "import os\n",
    "import pandas as pd\n",
    "import xlsxwriter\n",
    "comp = 'GCP';\n",
    "# comp = 'stim' or 'desktop204'"
   ]
  },
  {
   "cell_type": "code",
   "execution_count": 2,
   "metadata": {},
   "outputs": [],
   "source": [
    "files = []\n",
    "start_dir = \"/home/labs/rivlinlab/bndolev/MEAdata/database/\"\n",
    "\n",
    "def walk(d):\n",
    "    pys = []\n",
    "    for p, d, f in os.walk(d):\n",
    "        for file in f:\n",
    "            if file.endswith('.h5'):\n",
    "                if comp=='stim':\n",
    "                    pys.append(os.path.join(p.replace('/Users/noah.dolev/wexac/','/data.wexac.weizmann.ac.il/rivlinlab/bndolev/'),file))\n",
    "                elif comp=='GCP':\n",
    "                    pys.append(os.path.join(p.replace('/Users/noah.dolev/wexac/','/home/labs/rivlinlab/bndolev/'),file))\n",
    "                elif comp=='desktop204'\n",
    "    return pys\n",
    "files = walk(start_dir)\n"
   ]
  },
  {
   "cell_type": "code",
   "execution_count": 3,
   "metadata": {},
   "outputs": [],
   "source": [
    "text = ['=','h5']\n",
    "words = [f.split('/') for f in files]\n",
    "keys =[]\n",
    "values =[] \n",
    "field = {}\n",
    "for word in words:\n",
    "    key = 'exclude'\n",
    "    value = ''\n",
    "    field.setdefault(key, []).append(value)\n",
    "    field.setdefault(key, []).append(value)\n",
    "    key = 'folder'\n",
    "    value = '/'+os.path.join(*word[:-1])\n",
    "    if sim:\n",
    "#         value.replace('//','\\\\')\n",
    "        value = '/'+value\n",
    "    field.setdefault(key, []).append(value)\n",
    "    field.setdefault(key, []).append(value)\n",
    "    key = 'coating'\n",
    "    value = 'PDL'\n",
    "    field.setdefault(key, []).append(value)\n",
    "    field.setdefault(key, []).append(value)\n",
    "    key = 'cleaning'\n",
    "    value = 'Liquinox, DDW'\n",
    "    field.setdefault(key, []).append(value)\n",
    "    field.setdefault(key, []).append(value)\n",
    "    for w in word:\n",
    "        if text[0] in w:\n",
    "            key =  w.split('=')[0]\n",
    "            value = w.split('=')[1]\n",
    "            field.setdefault(key, []).append(value)   \n",
    "            field.setdefault(key, []).append(value)\n",
    "        elif text[1] in w:\n",
    "            key = 'MEAfiles'\n",
    "            value = w\n",
    "            field.setdefault(key, []).append(value) \n",
    "            field.setdefault(key, []).append(value.replace('h5','bin')) \n",
    "            key = 'recFormat'\n",
    "            value = \"MCH5Recording\"\n",
    "            field.setdefault(key, []).append(value)\n",
    "            field.setdefault(key, []).append(value.replace('MCH5','binary')) \n",
    "            key = 'recNames'\n",
    "            value = w\n",
    "            field.setdefault(key, []).append(value)\n",
    "            field.setdefault(key, []).append(value.replace('h5','bin')) \n",
    "    key = 'comments'\n",
    "    value = ''\n",
    "    field.setdefault(key, []).append(value) "
   ]
  },
  {
   "cell_type": "code",
   "execution_count": 4,
   "metadata": {},
   "outputs": [],
   "source": [
    "def writexls(path, d):\n",
    "    workbook = xlsxwriter.Workbook(path)\n",
    "    worksheet = workbook.add_worksheet()\n",
    "    col = 0 \n",
    "    for key in d.keys():\n",
    "        row = 0\n",
    "        worksheet.write(row, col, key)\n",
    "        for item in d[key]:\n",
    "            row += 1\n",
    "            worksheet.write(row, col, item)\n",
    "        col += 1\n",
    "    workbook.close()\n",
    "    return\n",
    "if sim:\n",
    "    writexls(\"/Users/noah.dolev/wexac/MEAdata/experiments_ver1_sim.xlsx\", field)\n",
    "else:\n",
    "    writexls(os.path.join(start_dir,\"experiments_ver1.xlsx\"), field)"
   ]
  },
  {
   "cell_type": "code",
   "execution_count": null,
   "metadata": {},
   "outputs": [],
   "source": []
  },
  {
   "cell_type": "code",
   "execution_count": null,
   "metadata": {},
   "outputs": [],
   "source": []
  }
 ],
 "metadata": {
  "kernelspec": {
   "display_name": "Python 3",
   "language": "python",
   "name": "python3"
  },
  "language_info": {
   "codemirror_mode": {
    "name": "ipython",
    "version": 3
   },
   "file_extension": ".py",
   "mimetype": "text/x-python",
   "name": "python",
   "nbconvert_exporter": "python",
   "pygments_lexer": "ipython3",
   "version": "3.5.3"
  }
 },
 "nbformat": 4,
 "nbformat_minor": 2
}
